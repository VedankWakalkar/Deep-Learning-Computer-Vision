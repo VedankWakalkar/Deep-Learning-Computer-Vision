{
 "cells": [
  {
   "cell_type": "code",
   "execution_count": null,
   "metadata": {},
   "outputs": [],
   "source": [
    "# problem statement:Implement a simple GAN to generate synthetic images similar to those in the MNIST dataset. Train the GAN and visualize the generated images. Discuss the challenges faced during training and how you addressed them"
   ]
  },
  {
   "cell_type": "code",
   "execution_count": 1,
   "metadata": {},
   "outputs": [],
   "source": [
    "import torch\n",
    "import torch.nn as nn\n",
    "import torch.optim as optim\n",
    "from torch.utils.data import DataLoader\n",
    "import torchvision.datasets as datasets\n",
    "import torchvision.transforms as transforms\n",
    "import matplotlib.pyplot as plt\n",
    "\n",
    "# Set device\n",
    "device = torch.device('cuda' if torch.cuda.is_available() else 'cpu')\n"
   ]
  },
  {
   "cell_type": "code",
   "execution_count": 2,
   "metadata": {},
   "outputs": [],
   "source": [
    "class Generator(nn.Module):\n",
    "    def __init__(self, input_dim, output_dim):\n",
    "        super(Generator, self).__init__()\n",
    "        self.network = nn.Sequential(\n",
    "            nn.Linear(input_dim, 128),\n",
    "            nn.ReLU(),\n",
    "            nn.Linear(128, 256),\n",
    "            nn.ReLU(),\n",
    "            nn.Linear(256, output_dim),\n",
    "            nn.Tanh()\n",
    "        )\n",
    "\n",
    "    def forward(self, x):\n",
    "        return self.network(x)\n",
    "\n",
    "class Discriminator(nn.Module):\n",
    "    def __init__(self, input_dim):\n",
    "        super(Discriminator, self).__init__()\n",
    "        self.network = nn.Sequential(\n",
    "            nn.Linear(input_dim, 256),\n",
    "            nn.LeakyReLU(0.2),\n",
    "            nn.Linear(256, 128),\n",
    "            nn.LeakyReLU(0.2),\n",
    "            nn.Linear(128, 1),\n",
    "            nn.Sigmoid()\n",
    "        )\n",
    "\n",
    "    def forward(self, x):\n",
    "        return self.network(x)\n"
   ]
  },
  {
   "cell_type": "code",
   "execution_count": 3,
   "metadata": {},
   "outputs": [
    {
     "name": "stdout",
     "output_type": "stream",
     "text": [
      "Downloading http://yann.lecun.com/exdb/mnist/train-images-idx3-ubyte.gz\n",
      "Failed to download (trying next):\n",
      "<urlopen error [SSL: CERTIFICATE_VERIFY_FAILED] certificate verify failed: certificate has expired (_ssl.c:992)>\n",
      "\n",
      "Downloading https://ossci-datasets.s3.amazonaws.com/mnist/train-images-idx3-ubyte.gz\n",
      "Downloading https://ossci-datasets.s3.amazonaws.com/mnist/train-images-idx3-ubyte.gz to data\\MNIST\\raw\\train-images-idx3-ubyte.gz\n"
     ]
    },
    {
     "name": "stderr",
     "output_type": "stream",
     "text": [
      "100.0%\n"
     ]
    },
    {
     "name": "stdout",
     "output_type": "stream",
     "text": [
      "Extracting data\\MNIST\\raw\\train-images-idx3-ubyte.gz to data\\MNIST\\raw\n",
      "\n",
      "Downloading http://yann.lecun.com/exdb/mnist/train-labels-idx1-ubyte.gz\n",
      "Failed to download (trying next):\n",
      "<urlopen error [SSL: CERTIFICATE_VERIFY_FAILED] certificate verify failed: certificate has expired (_ssl.c:992)>\n",
      "\n",
      "Downloading https://ossci-datasets.s3.amazonaws.com/mnist/train-labels-idx1-ubyte.gz\n",
      "Downloading https://ossci-datasets.s3.amazonaws.com/mnist/train-labels-idx1-ubyte.gz to data\\MNIST\\raw\\train-labels-idx1-ubyte.gz\n"
     ]
    },
    {
     "name": "stderr",
     "output_type": "stream",
     "text": [
      "100.0%\n"
     ]
    },
    {
     "name": "stdout",
     "output_type": "stream",
     "text": [
      "Extracting data\\MNIST\\raw\\train-labels-idx1-ubyte.gz to data\\MNIST\\raw\n",
      "\n",
      "Downloading http://yann.lecun.com/exdb/mnist/t10k-images-idx3-ubyte.gz\n",
      "Failed to download (trying next):\n",
      "<urlopen error [SSL: CERTIFICATE_VERIFY_FAILED] certificate verify failed: certificate has expired (_ssl.c:992)>\n",
      "\n",
      "Downloading https://ossci-datasets.s3.amazonaws.com/mnist/t10k-images-idx3-ubyte.gz\n",
      "Downloading https://ossci-datasets.s3.amazonaws.com/mnist/t10k-images-idx3-ubyte.gz to data\\MNIST\\raw\\t10k-images-idx3-ubyte.gz\n"
     ]
    },
    {
     "name": "stderr",
     "output_type": "stream",
     "text": [
      "100.0%\n"
     ]
    },
    {
     "name": "stdout",
     "output_type": "stream",
     "text": [
      "Extracting data\\MNIST\\raw\\t10k-images-idx3-ubyte.gz to data\\MNIST\\raw\n",
      "\n",
      "Downloading http://yann.lecun.com/exdb/mnist/t10k-labels-idx1-ubyte.gz\n",
      "Failed to download (trying next):\n",
      "<urlopen error [SSL: CERTIFICATE_VERIFY_FAILED] certificate verify failed: certificate has expired (_ssl.c:992)>\n",
      "\n",
      "Downloading https://ossci-datasets.s3.amazonaws.com/mnist/t10k-labels-idx1-ubyte.gz\n",
      "Downloading https://ossci-datasets.s3.amazonaws.com/mnist/t10k-labels-idx1-ubyte.gz to data\\MNIST\\raw\\t10k-labels-idx1-ubyte.gz\n"
     ]
    },
    {
     "name": "stderr",
     "output_type": "stream",
     "text": [
      "100.0%"
     ]
    },
    {
     "name": "stdout",
     "output_type": "stream",
     "text": [
      "Extracting data\\MNIST\\raw\\t10k-labels-idx1-ubyte.gz to data\\MNIST\\raw\n",
      "\n"
     ]
    },
    {
     "name": "stderr",
     "output_type": "stream",
     "text": [
      "\n"
     ]
    }
   ],
   "source": [
    "# Hyperparameters\n",
    "latent_dim = 64\n",
    "img_dim = 28 * 28  # 784\n",
    "batch_size = 64\n",
    "learning_rate = 0.0002\n",
    "num_epochs = 100\n",
    "\n",
    "# Load MNIST dataset\n",
    "transform = transforms.Compose([transforms.ToTensor(), transforms.Normalize((0.5,), (0.5,))])\n",
    "dataset = datasets.MNIST(root='data', train=True, transform=transform, download=True)\n",
    "dataloader = DataLoader(dataset, batch_size=batch_size, shuffle=True)\n"
   ]
  },
  {
   "cell_type": "code",
   "execution_count": 4,
   "metadata": {},
   "outputs": [],
   "source": [
    "generator = Generator(input_dim=latent_dim, output_dim=img_dim).to(device)\n",
    "discriminator = Discriminator(input_dim=img_dim).to(device)\n",
    "\n",
    "# Loss and optimizers\n",
    "criterion = nn.BCELoss()\n",
    "optimizer_g = optim.Adam(generator.parameters(), lr=learning_rate)\n",
    "optimizer_d = optim.Adam(discriminator.parameters(), lr=learning_rate)\n"
   ]
  },
  {
   "cell_type": "code",
   "execution_count": 5,
   "metadata": {},
   "outputs": [
    {
     "name": "stdout",
     "output_type": "stream",
     "text": [
      "Epoch [1/100], d_loss: 0.1107, g_loss: 5.1762\n",
      "Epoch [2/100], d_loss: 0.5391, g_loss: 3.6928\n",
      "Epoch [3/100], d_loss: 0.3228, g_loss: 1.9624\n",
      "Epoch [4/100], d_loss: 0.2101, g_loss: 2.5870\n",
      "Epoch [5/100], d_loss: 0.5531, g_loss: 2.1586\n",
      "Epoch [6/100], d_loss: 0.3025, g_loss: 3.1703\n",
      "Epoch [7/100], d_loss: 0.3382, g_loss: 4.9261\n",
      "Epoch [8/100], d_loss: 0.6183, g_loss: 7.6741\n",
      "Epoch [9/100], d_loss: 0.4192, g_loss: 4.6796\n",
      "Epoch [10/100], d_loss: 0.1147, g_loss: 4.9140\n",
      "Epoch [11/100], d_loss: 0.1547, g_loss: 5.2701\n",
      "Epoch [12/100], d_loss: 0.2641, g_loss: 4.5443\n",
      "Epoch [13/100], d_loss: 0.1529, g_loss: 4.0794\n",
      "Epoch [14/100], d_loss: 0.1303, g_loss: 6.1086\n",
      "Epoch [15/100], d_loss: 0.2050, g_loss: 3.9588\n",
      "Epoch [16/100], d_loss: 0.3021, g_loss: 3.9988\n",
      "Epoch [17/100], d_loss: 0.3422, g_loss: 5.3502\n",
      "Epoch [18/100], d_loss: 0.3408, g_loss: 4.6893\n",
      "Epoch [19/100], d_loss: 0.2523, g_loss: 5.1286\n",
      "Epoch [20/100], d_loss: 0.1639, g_loss: 4.9254\n",
      "Epoch [21/100], d_loss: 0.2373, g_loss: 2.8907\n",
      "Epoch [22/100], d_loss: 0.3713, g_loss: 4.5656\n",
      "Epoch [23/100], d_loss: 0.4258, g_loss: 2.9591\n",
      "Epoch [24/100], d_loss: 0.5181, g_loss: 2.4904\n",
      "Epoch [25/100], d_loss: 0.4461, g_loss: 3.5652\n",
      "Epoch [26/100], d_loss: 0.3885, g_loss: 3.1420\n",
      "Epoch [27/100], d_loss: 0.2036, g_loss: 3.9456\n",
      "Epoch [28/100], d_loss: 0.3395, g_loss: 4.8103\n",
      "Epoch [29/100], d_loss: 0.6820, g_loss: 3.0278\n",
      "Epoch [30/100], d_loss: 1.2426, g_loss: 1.7625\n",
      "Epoch [31/100], d_loss: 0.4192, g_loss: 3.3400\n",
      "Epoch [32/100], d_loss: 0.3850, g_loss: 2.7695\n",
      "Epoch [33/100], d_loss: 0.4849, g_loss: 2.7062\n",
      "Epoch [34/100], d_loss: 0.5994, g_loss: 4.7548\n",
      "Epoch [35/100], d_loss: 0.9835, g_loss: 3.2974\n",
      "Epoch [36/100], d_loss: 0.6837, g_loss: 2.1466\n",
      "Epoch [37/100], d_loss: 0.7957, g_loss: 2.2170\n",
      "Epoch [38/100], d_loss: 0.8449, g_loss: 2.3626\n",
      "Epoch [39/100], d_loss: 0.7812, g_loss: 1.7772\n",
      "Epoch [40/100], d_loss: 0.7133, g_loss: 1.6283\n",
      "Epoch [41/100], d_loss: 0.8288, g_loss: 2.3035\n",
      "Epoch [42/100], d_loss: 0.3097, g_loss: 3.0965\n",
      "Epoch [43/100], d_loss: 0.5342, g_loss: 3.4986\n",
      "Epoch [44/100], d_loss: 0.5064, g_loss: 3.0666\n",
      "Epoch [45/100], d_loss: 0.7223, g_loss: 2.3175\n",
      "Epoch [46/100], d_loss: 0.4757, g_loss: 2.5197\n",
      "Epoch [47/100], d_loss: 0.6850, g_loss: 2.8898\n",
      "Epoch [48/100], d_loss: 0.7417, g_loss: 2.1392\n",
      "Epoch [49/100], d_loss: 0.5909, g_loss: 2.8155\n",
      "Epoch [50/100], d_loss: 0.8183, g_loss: 1.7508\n",
      "Epoch [51/100], d_loss: 0.6915, g_loss: 2.7151\n",
      "Epoch [52/100], d_loss: 0.8579, g_loss: 1.6497\n",
      "Epoch [53/100], d_loss: 0.6977, g_loss: 2.8021\n",
      "Epoch [54/100], d_loss: 0.7338, g_loss: 1.6470\n",
      "Epoch [55/100], d_loss: 0.5593, g_loss: 1.6463\n",
      "Epoch [56/100], d_loss: 0.7731, g_loss: 2.5066\n",
      "Epoch [57/100], d_loss: 1.1900, g_loss: 1.3455\n",
      "Epoch [58/100], d_loss: 0.9330, g_loss: 2.0502\n",
      "Epoch [59/100], d_loss: 0.9485, g_loss: 1.6303\n",
      "Epoch [60/100], d_loss: 0.9638, g_loss: 1.3672\n",
      "Epoch [61/100], d_loss: 0.6202, g_loss: 1.9709\n",
      "Epoch [62/100], d_loss: 0.9407, g_loss: 2.2384\n",
      "Epoch [63/100], d_loss: 0.9274, g_loss: 1.7851\n",
      "Epoch [64/100], d_loss: 0.6021, g_loss: 1.8659\n",
      "Epoch [65/100], d_loss: 0.9089, g_loss: 2.1221\n",
      "Epoch [66/100], d_loss: 0.9376, g_loss: 1.3948\n",
      "Epoch [67/100], d_loss: 1.1111, g_loss: 1.8390\n",
      "Epoch [68/100], d_loss: 0.7171, g_loss: 1.9639\n",
      "Epoch [69/100], d_loss: 0.9604, g_loss: 1.6826\n",
      "Epoch [70/100], d_loss: 0.5868, g_loss: 1.6896\n",
      "Epoch [71/100], d_loss: 0.7251, g_loss: 2.2929\n",
      "Epoch [72/100], d_loss: 0.7902, g_loss: 1.6363\n",
      "Epoch [73/100], d_loss: 0.4588, g_loss: 2.5409\n",
      "Epoch [74/100], d_loss: 0.8741, g_loss: 2.5281\n",
      "Epoch [75/100], d_loss: 0.8280, g_loss: 2.2254\n",
      "Epoch [76/100], d_loss: 0.8198, g_loss: 1.6200\n",
      "Epoch [77/100], d_loss: 0.5468, g_loss: 1.7674\n",
      "Epoch [78/100], d_loss: 0.6965, g_loss: 2.0251\n",
      "Epoch [79/100], d_loss: 0.9307, g_loss: 1.7223\n",
      "Epoch [80/100], d_loss: 0.7943, g_loss: 1.9991\n",
      "Epoch [81/100], d_loss: 1.0101, g_loss: 1.1319\n",
      "Epoch [82/100], d_loss: 0.8232, g_loss: 1.4672\n",
      "Epoch [83/100], d_loss: 0.8952, g_loss: 1.5089\n",
      "Epoch [84/100], d_loss: 0.6800, g_loss: 1.9601\n",
      "Epoch [85/100], d_loss: 1.2197, g_loss: 2.0365\n",
      "Epoch [86/100], d_loss: 0.9830, g_loss: 1.8409\n",
      "Epoch [87/100], d_loss: 0.8790, g_loss: 1.3983\n",
      "Epoch [88/100], d_loss: 1.0032, g_loss: 2.1622\n",
      "Epoch [89/100], d_loss: 0.8310, g_loss: 1.3949\n",
      "Epoch [90/100], d_loss: 0.6482, g_loss: 1.5850\n",
      "Epoch [91/100], d_loss: 1.0880, g_loss: 1.0710\n",
      "Epoch [92/100], d_loss: 0.8403, g_loss: 1.7616\n",
      "Epoch [93/100], d_loss: 0.8103, g_loss: 2.0016\n",
      "Epoch [94/100], d_loss: 0.8119, g_loss: 2.1179\n",
      "Epoch [95/100], d_loss: 0.9437, g_loss: 1.8153\n",
      "Epoch [96/100], d_loss: 1.0592, g_loss: 1.3645\n",
      "Epoch [97/100], d_loss: 0.9718, g_loss: 1.6526\n",
      "Epoch [98/100], d_loss: 1.0255, g_loss: 1.1851\n",
      "Epoch [99/100], d_loss: 0.8667, g_loss: 1.9487\n",
      "Epoch [100/100], d_loss: 0.9280, g_loss: 1.8785\n"
     ]
    }
   ],
   "source": [
    "for epoch in range(num_epochs):\n",
    "    for batch_idx, (real_imgs, _) in enumerate(dataloader):\n",
    "        # Prepare real images and labels\n",
    "        real_imgs = real_imgs.view(-1, img_dim).to(device)\n",
    "        batch_size = real_imgs.size(0)\n",
    "        real_labels = torch.ones(batch_size, 1).to(device)\n",
    "        fake_labels = torch.zeros(batch_size, 1).to(device)\n",
    "\n",
    "        # Train the Discriminator\n",
    "        noise = torch.randn(batch_size, latent_dim).to(device)\n",
    "        fake_imgs = generator(noise)\n",
    "        real_loss = criterion(discriminator(real_imgs), real_labels)\n",
    "        fake_loss = criterion(discriminator(fake_imgs.detach()), fake_labels)\n",
    "        d_loss = real_loss + fake_loss\n",
    "\n",
    "        optimizer_d.zero_grad()\n",
    "        d_loss.backward()\n",
    "        optimizer_d.step()\n",
    "\n",
    "        # Train the Generator\n",
    "        noise = torch.randn(batch_size, latent_dim).to(device)\n",
    "        fake_imgs = generator(noise)\n",
    "        g_loss = criterion(discriminator(fake_imgs), real_labels)\n",
    "\n",
    "        optimizer_g.zero_grad()\n",
    "        g_loss.backward()\n",
    "        optimizer_g.step()\n",
    "\n",
    "    # Display progress\n",
    "    print(f\"Epoch [{epoch+1}/{num_epochs}], d_loss: {d_loss.item():.4f}, g_loss: {g_loss.item():.4f}\")\n"
   ]
  },
  {
   "cell_type": "code",
   "execution_count": 6,
   "metadata": {},
   "outputs": [
    {
     "data": {
      "image/png": "[encoded data removed]",
      "text/plain": [
       "<Figure size 600x600 with 16 Axes>"
      ]
     },
     "metadata": {},
     "output_type": "display_data"
    }
   ],
   "source": [
    "def show_generated_images():\n",
    "    noise = torch.randn(16, latent_dim).to(device)\n",
    "    generated_imgs = generator(noise).view(-1, 1, 28, 28)\n",
    "    generated_imgs = generated_imgs.cpu().detach()\n",
    "\n",
    "    fig, axes = plt.subplots(4, 4, figsize=(6, 6))\n",
    "    for i, ax in enumerate(axes.flat):\n",
    "        ax.imshow(generated_imgs[i][0], cmap='gray')\n",
    "        ax.axis('off')\n",
    "    plt.show()\n",
    "\n",
    "show_generated_images()\n"
   ]
  },
  {
   "cell_type": "code",
   "execution_count": null,
   "metadata": {},
   "outputs": [],
   "source": []
  }
 ],
 "metadata": {
  "kernelspec": {
   "display_name": "Python 3",
   "language": "python",
   "name": "python3"
  },
  "language_info": {
   "codemirror_mode": {
    "name": "ipython",
    "version": 3
   },
   "file_extension": ".py",
   "mimetype": "text/x-python",
   "name": "python",
   "nbconvert_exporter": "python",
   "pygments_lexer": "ipython3",
   "version": "3.11.0"
  }
 },
 "nbformat": 4,
 "nbformat_minor": 2
}
